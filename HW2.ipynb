{
  "nbformat": 4,
  "nbformat_minor": 0,
  "metadata": {
    "colab": {
      "name": "BIO310_Lab4.ipynb",
      "provenance": [],
      "collapsed_sections": [],
      "toc_visible": true
    },
    "kernelspec": {
      "name": "python3",
      "display_name": "Python 3"
    }
  },
  "cells": [
    {
      "cell_type": "code",
      "metadata": {
        "id": "CwFKDLnmCgDz",
        "colab_type": "code",
        "colab": {}
      },
      "source": [
        "class ScoreParam:\n",
        "\n",
        "    def __init__(self, gap, mismatch, matchVal):\n",
        "        self.gap = gap\n",
        "        self.mismatch = mismatch\n",
        "        self.matchVal = matchVal\n",
        "    def match(self, chr):\n",
        "      return self.matchVal\n",
        "\n",
        "def local_align(x, y, score=ScoreParam(-4, -3, 4)):\n",
        "   \n",
        "    A = []\n",
        "    for i in range(len(y) + 1):\n",
        "        A.append([0] * (len(x) +1))\n",
        "    best = 0\n",
        "    optloc = (0,0)\n",
        "\n",
        "    for i in range(1, len(y) + 1):\n",
        "        for j in range(1, len(x) + 1):\n",
        "           \n",
        "            A[i][j] = max(\n",
        "            A[i][j-1] + score.gap,\n",
        "            A[i-1][j] + score.gap,\n",
        "            A[i-1][j-1] + (score.match(y[i-1]) if y[i-1] == x[j-1] else score.mismatch),\n",
        "            )\n",
        "           \n",
        "            if A[i][j] >= best:\n",
        "                best = A[i][j]\n",
        "                optloc = (i,j)\n",
        "\n",
        "    align_X = \"\"\n",
        "    align_Y = \"\"\n",
        "    j, i = optloc\n",
        "    while (i > 0 or j > 0) and A[j][i] > 0:\n",
        "         \n",
        "        current_score = A[j][i]\n",
        "\n",
        "        if i > 0 and j > 0 and x[i - 1] == y[j - 1]:\n",
        "            align_X = x[i - 1] + align_X\n",
        "            align_Y = y[j - 1] + align_Y\n",
        "            i = i - 1\n",
        "            j = j - 1\n",
        "         \n",
        "        elif i > 0 and (current_score == A[j][i - 1] + score.mismatch or current_score == A[j][i - 1] + score.gap) and A[j][i - 1] > 0:\n",
        "            align_X = x[i - 1] + align_X\n",
        "            align_Y = \"-\" + align_Y\n",
        "            i = i - 1\n",
        "             \n",
        "        else:\n",
        "            align_X = \"-\" + align_X\n",
        "            align_Y = y[j - 1] + align_Y\n",
        "            j = j - 1\n",
        " \n",
        "    return (align_X, align_Y)"
      ],
      "execution_count": 0,
      "outputs": []
    },
    {
      "cell_type": "code",
      "metadata": {
        "id": "_4cBd6BF3TQu",
        "colab_type": "code",
        "colab": {
          "base_uri": "https://localhost:8080/",
          "height": 54
        },
        "outputId": "91bf195f-b7c1-4ed8-9c86-4f3cadbdc6ad"
      },
      "source": [
        "sequences = open(\"/content/drive/My Drive/mnist-in-csv/test_input5.txt\", 'r') \n",
        "Lines = sequences.readlines() \n",
        "\n",
        "seq1 = Lines[0].upper()\n",
        "seq2 = Lines[1].upper()\n",
        "seq1.replace('\\n', '');\n",
        "\n",
        "gap = -4\n",
        "mismatch = -3\n",
        "match = 4\n",
        "\n",
        "localSequenceAlignment = local_align(seq1, seq2, score=ScoreParam(gap, mismatch, match))\n",
        "\n",
        "print(localSequenceAlignment[0])\n",
        "print(localSequenceAlignment[1])\n",
        "\n",
        "text_file = open(\"/content/drive/My Drive/mnist-in-csv/Output.txt\", \"w\")\n",
        "text_file.write(\"Mismatch Penalty: %s\\n\" % mismatch)\n",
        "text_file.write(\"Gap Penalty: %s\\n\" % gap)\n",
        "text_file.write(\"Match Score: %s\\n\\n\" % match)\n",
        "text_file.write(\"Sequence 1: %s\\n\" % localSequenceAlignment[0])\n",
        "text_file.write(\"Sequence 2: %s\" % localSequenceAlignment[1])\n",
        "text_file.close()"
      ],
      "execution_count": 32,
      "outputs": [
        {
          "output_type": "stream",
          "text": [
            "CCCCGATA-AAGGTGCCCGCTACATCTCAATCG-C-GGCATATGGACCTCTGGGG\n",
            "CCCCGAT-TAAGGTGCCCGCTACATCTCAATCGCCGGGCATATGGACCTCTGGGG\n"
          ],
          "name": "stdout"
        }
      ]
    }
  ]
}